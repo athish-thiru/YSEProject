{
 "cells": [
  {
   "cell_type": "code",
   "execution_count": 5,
   "id": "ba2afb48",
   "metadata": {},
   "outputs": [],
   "source": [
    "import umap\n",
    "from sklearn.manifold import TSNE\n",
    "import pandas as pd"
   ]
  },
  {
   "cell_type": "code",
   "execution_count": 6,
   "id": "5c42934b",
   "metadata": {},
   "outputs": [],
   "source": [
    "new_df1 = pd.read_csv(\"LCs_CC_modified.csv\", index_col=0)\n",
    "new_df2 = pd.read_csv(\"LCs_Ia_modified.csv\", index_col=0)\n",
    "new_df3 = pd.read_csv(\"LCs_SESNe_modified.csv\", index_col=0)"
   ]
  },
  {
   "cell_type": "code",
   "execution_count": null,
   "id": "f4b0c96b",
   "metadata": {},
   "outputs": [],
   "source": [
    "#df : dataframe; n : days\n",
    "def phasecut(df, n):\n",
    "    df[\"before\" + str(n) + \"Days\"] = [1 if row[1][0] < n else 0 for row in df.iterrows()]"
   ]
  },
  {
   "cell_type": "code",
   "execution_count": null,
   "id": "100bb288",
   "metadata": {},
   "outputs": [],
   "source": [
    "def Before_after_array(X, y):\n",
    "    Before_list = []\n",
    "    After_list = []\n",
    "    for i in range(len(y1)):\n",
    "        if y1[i] == 1.0:\n",
    "            Before_list.append(X1_embedded[i])\n",
    "        else:\n",
    "            After_list.append(X1_embedded[i])\n",
    "    Before_array = np.array(Before_list)\n",
    "    After_array = np.array(After_list)\n",
    "    return Before_array, After_array"
   ]
  },
  {
   "cell_type": "code",
   "execution_count": null,
   "id": "f25c50b3",
   "metadata": {},
   "outputs": [],
   "source": [
    "#t-SNE dimensionality reduction\n",
    "method = manifold.TSNE(n_components = 2)\n",
    "day = 3\n",
    "phasecut(new_df1, day)\n",
    "phasecut(new_df2, day)\n",
    "phasecut(new_df3, day)\n",
    "\n",
    "data1 = new_df1.to_numpy()\n",
    "X1 = data1[:, 1:8].astype('float')\n",
    "y1 = data1[:,9].astype('float')\n",
    "X1_embedded = method.fit_transform(X1)\n",
    "\n",
    "data2 = new_df2.to_numpy()\n",
    "X2 = data2[:, 1:8].astype('float')\n",
    "y2 = data2[:,9].astype('float')\n",
    "X2_embedded = method.fit_transform(X2)\n",
    "\n",
    "data3 = new_df3.to_numpy()\n",
    "X3 = data3[:, 1:8].astype('float')\n",
    "y3 = data3[:,9].astype('float')\n",
    "X3_embedded = method.fit_transform(X3)"
   ]
  },
  {
   "cell_type": "code",
   "execution_count": null,
   "id": "5c66b38c",
   "metadata": {},
   "outputs": [],
   "source": [
    "print(X1_embedded)\n",
    "print(X2_embedded)\n",
    "print(X3_embedded)"
   ]
  },
  {
   "cell_type": "code",
   "execution_count": null,
   "id": "07b95883",
   "metadata": {},
   "outputs": [],
   "source": [
    "#t-SNE plotting\n",
    "\n",
    "fig, ax = plt.subplots(nrows=3, ncols=1, figsize=(8,18))\n",
    "#CCs\n",
    "CCs_before, CCs_after = Before_after_array(X1_embedded, y1)\n",
    "ax[0].scatter(CCs_before[:,0], CCs_before[:,1], c='teal', marker='^', label='CCs before 3 days')\n",
    "ax[0].scatter(CCs_after[:,0], CCs_after[:,1], c='teal', marker='s', label='CCs after 3 days')\n",
    "ax[0].legend()\n",
    "\n",
    "#Ias\n",
    "Ias_before, Ias_after = Before_after_array(X2_embedded, y2)\n",
    "ax[1].scatter(Ias_before[:,0], Ias_before[:,1], c='darkseagreen', marker='^', label='Ias before 3 days')\n",
    "ax[1].scatter(Ias_after[:,0], Ias_after[:,1], c='darkseagreen', marker='s', label='Ias after 3 days')\n",
    "ax[1].legend()\n",
    "\n",
    "\n",
    "#SESNe\n",
    "SESNes_before, SESNes_after = Before_after_array(X3_embedded, y3)\n",
    "ax[2].scatter(SESNes_before[:,0], SESNes_before[:,1], c='coral', marker='^', label='SESNes before 3 days')\n",
    "ax[2].scatter(SESNes_after[:,0], SESNes_after[:,1], c='coral', marker='s', label='SESNes after 3 days')\n",
    "ax[2].legend()\n",
    "\n",
    "print(CCs_before)\n",
    "print(CCs_after)\n",
    "print(np.shape(CCs_before))\n",
    "\n",
    "plt.show()"
   ]
  },
  {
   "cell_type": "code",
   "execution_count": null,
   "id": "a54d2584",
   "metadata": {},
   "outputs": [],
   "source": [
    "#UMAP dimensionality reduction\n",
    "\n",
    "method2 = umap.UMAP()\n",
    "day = 3\n",
    "phasecut(new_df1, day)\n",
    "phasecut(new_df2, day)\n",
    "phasecut(new_df3, day)\n",
    "\n",
    "data1 = new_df1.to_numpy()\n",
    "X1 = data1[:, 1:8].astype('float')\n",
    "y1 = data1[:,9].astype('float')\n",
    "umap_X1_embedded = method2.fit_transform(X1)\n",
    "\n",
    "data2 = new_df2.to_numpy()\n",
    "X2 = data2[:, 1:8].astype('float')\n",
    "y2 = data2[:,9].astype('float')\n",
    "umap_X2_embedded = method2.fit_transform(X2)\n",
    "\n",
    "data3 = new_df3.to_numpy()\n",
    "X3 = data3[:, 1:8].astype('float')\n",
    "y3 = data3[:,9].astype('float')\n",
    "umap_X3_embedded = method2.fit_transform(X3)"
   ]
  },
  {
   "cell_type": "code",
   "execution_count": null,
   "id": "6af6ec39",
   "metadata": {},
   "outputs": [],
   "source": [
    "#UMAP plotting\n",
    "\n",
    "fig, ax = plt.subplots(nrows=3, ncols=1, figsize=(8,18))\n",
    "#CCs\n",
    "umap_CCs_before, umap_CCs_after = Before_after_array(umap_X1_embedded, y1)\n",
    "ax[0].scatter(umap_CCs_before[:,0], umap_CCs_before[:,1], c='teal', marker='^', label='CCs before 3 days')\n",
    "ax[0].scatter(umap_CCs_after[:,0], umap_CCs_after[:,1], c='teal', marker='s', label='CCs after 3 days')\n",
    "ax[0].legend()\n",
    "\n",
    "#Ias\n",
    "umap_Ias_before, umap_Ias_after = Before_after_array(umap_X2_embedded, y2)\n",
    "ax[1].scatter(umap_Ias_before[:,0], umap_Ias_before[:,1], c='darkseagreen', marker='^', label='Ias before 3 days')\n",
    "ax[1].scatter(umap_Ias_after[:,0], umap_Ias_after[:,1], c='darkseagreen', marker='s', label='Ias after 3 days')\n",
    "ax[1].legend()\n",
    "\n",
    "\n",
    "#SESNe\n",
    "umap_SESNes_before, umap_SESNes_after = Before_after_array(umap_X3_embedded, y3)\n",
    "ax[2].scatter(umap_SESNes_before[:,0], umap_SESNes_before[:,1], c='coral', marker='^', label='SESNes before 3 days')\n",
    "ax[2].scatter(umap_SESNes_after[:,0], umap_SESNes_after[:,1], c='coral', marker='s', label='SESNes after 3 days')\n",
    "ax[2].legend()\n",
    "\n",
    "plt.show()"
   ]
  },
  {
   "cell_type": "code",
   "execution_count": 8,
   "id": "f6a005a9",
   "metadata": {},
   "outputs": [
    {
     "name": "stdout",
     "output_type": "stream",
     "text": [
      "Counter({'SNII': 36222, 'IIb': 6942, 'IIL': 4758, 'IIn': 3030})\n"
     ]
    },
    {
     "ename": "KeyError",
     "evalue": "'class'",
     "output_type": "error",
     "traceback": [
      "\u001b[0;31m---------------------------------------------------------------------------\u001b[0m",
      "\u001b[0;31mKeyError\u001b[0m                                  Traceback (most recent call last)",
      "\u001b[0;32m~/Coding/anaconda3/lib/python3.8/site-packages/pandas/core/indexes/base.py\u001b[0m in \u001b[0;36mget_loc\u001b[0;34m(self, key, method, tolerance)\u001b[0m\n\u001b[1;32m   3360\u001b[0m             \u001b[0;32mtry\u001b[0m\u001b[0;34m:\u001b[0m\u001b[0;34m\u001b[0m\u001b[0;34m\u001b[0m\u001b[0m\n\u001b[0;32m-> 3361\u001b[0;31m                 \u001b[0;32mreturn\u001b[0m \u001b[0mself\u001b[0m\u001b[0;34m.\u001b[0m\u001b[0m_engine\u001b[0m\u001b[0;34m.\u001b[0m\u001b[0mget_loc\u001b[0m\u001b[0;34m(\u001b[0m\u001b[0mcasted_key\u001b[0m\u001b[0;34m)\u001b[0m\u001b[0;34m\u001b[0m\u001b[0;34m\u001b[0m\u001b[0m\n\u001b[0m\u001b[1;32m   3362\u001b[0m             \u001b[0;32mexcept\u001b[0m \u001b[0mKeyError\u001b[0m \u001b[0;32mas\u001b[0m \u001b[0merr\u001b[0m\u001b[0;34m:\u001b[0m\u001b[0;34m\u001b[0m\u001b[0;34m\u001b[0m\u001b[0m\n",
      "\u001b[0;32m~/Coding/anaconda3/lib/python3.8/site-packages/pandas/_libs/index.pyx\u001b[0m in \u001b[0;36mpandas._libs.index.IndexEngine.get_loc\u001b[0;34m()\u001b[0m\n",
      "\u001b[0;32m~/Coding/anaconda3/lib/python3.8/site-packages/pandas/_libs/index.pyx\u001b[0m in \u001b[0;36mpandas._libs.index.IndexEngine.get_loc\u001b[0;34m()\u001b[0m\n",
      "\u001b[0;32mpandas/_libs/hashtable_class_helper.pxi\u001b[0m in \u001b[0;36mpandas._libs.hashtable.PyObjectHashTable.get_item\u001b[0;34m()\u001b[0m\n",
      "\u001b[0;32mpandas/_libs/hashtable_class_helper.pxi\u001b[0m in \u001b[0;36mpandas._libs.hashtable.PyObjectHashTable.get_item\u001b[0;34m()\u001b[0m\n",
      "\u001b[0;31mKeyError\u001b[0m: 'class'",
      "\nThe above exception was the direct cause of the following exception:\n",
      "\u001b[0;31mKeyError\u001b[0m                                  Traceback (most recent call last)",
      "\u001b[0;32m<ipython-input-8-44d630026424>\u001b[0m in \u001b[0;36m<module>\u001b[0;34m\u001b[0m\n\u001b[1;32m      1\u001b[0m \u001b[0;32mfrom\u001b[0m \u001b[0mcollections\u001b[0m \u001b[0;32mimport\u001b[0m \u001b[0mCounter\u001b[0m\u001b[0;34m\u001b[0m\u001b[0;34m\u001b[0m\u001b[0m\n\u001b[1;32m      2\u001b[0m \u001b[0mprint\u001b[0m\u001b[0;34m(\u001b[0m\u001b[0mCounter\u001b[0m\u001b[0;34m(\u001b[0m\u001b[0mnew_df1\u001b[0m\u001b[0;34m[\u001b[0m\u001b[0;34m'Type'\u001b[0m\u001b[0;34m]\u001b[0m\u001b[0;34m)\u001b[0m\u001b[0;34m)\u001b[0m\u001b[0;34m\u001b[0m\u001b[0;34m\u001b[0m\u001b[0m\n\u001b[0;32m----> 3\u001b[0;31m \u001b[0mprint\u001b[0m\u001b[0;34m(\u001b[0m\u001b[0mCounter\u001b[0m\u001b[0;34m(\u001b[0m\u001b[0mnew_df2\u001b[0m\u001b[0;34m[\u001b[0m\u001b[0;34m'class'\u001b[0m\u001b[0;34m]\u001b[0m\u001b[0;34m)\u001b[0m\u001b[0;34m)\u001b[0m\u001b[0;34m\u001b[0m\u001b[0;34m\u001b[0m\u001b[0m\n\u001b[0m\u001b[1;32m      4\u001b[0m \u001b[0mprint\u001b[0m\u001b[0;34m(\u001b[0m\u001b[0mCounter\u001b[0m\u001b[0;34m(\u001b[0m\u001b[0mnew_df3\u001b[0m\u001b[0;34m[\u001b[0m\u001b[0;34m'class'\u001b[0m\u001b[0;34m]\u001b[0m\u001b[0;34m)\u001b[0m\u001b[0;34m)\u001b[0m\u001b[0;34m\u001b[0m\u001b[0;34m\u001b[0m\u001b[0m\n",
      "\u001b[0;32m~/Coding/anaconda3/lib/python3.8/site-packages/pandas/core/frame.py\u001b[0m in \u001b[0;36m__getitem__\u001b[0;34m(self, key)\u001b[0m\n\u001b[1;32m   3453\u001b[0m             \u001b[0;32mif\u001b[0m \u001b[0mself\u001b[0m\u001b[0;34m.\u001b[0m\u001b[0mcolumns\u001b[0m\u001b[0;34m.\u001b[0m\u001b[0mnlevels\u001b[0m \u001b[0;34m>\u001b[0m \u001b[0;36m1\u001b[0m\u001b[0;34m:\u001b[0m\u001b[0;34m\u001b[0m\u001b[0;34m\u001b[0m\u001b[0m\n\u001b[1;32m   3454\u001b[0m                 \u001b[0;32mreturn\u001b[0m \u001b[0mself\u001b[0m\u001b[0;34m.\u001b[0m\u001b[0m_getitem_multilevel\u001b[0m\u001b[0;34m(\u001b[0m\u001b[0mkey\u001b[0m\u001b[0;34m)\u001b[0m\u001b[0;34m\u001b[0m\u001b[0;34m\u001b[0m\u001b[0m\n\u001b[0;32m-> 3455\u001b[0;31m             \u001b[0mindexer\u001b[0m \u001b[0;34m=\u001b[0m \u001b[0mself\u001b[0m\u001b[0;34m.\u001b[0m\u001b[0mcolumns\u001b[0m\u001b[0;34m.\u001b[0m\u001b[0mget_loc\u001b[0m\u001b[0;34m(\u001b[0m\u001b[0mkey\u001b[0m\u001b[0;34m)\u001b[0m\u001b[0;34m\u001b[0m\u001b[0;34m\u001b[0m\u001b[0m\n\u001b[0m\u001b[1;32m   3456\u001b[0m             \u001b[0;32mif\u001b[0m \u001b[0mis_integer\u001b[0m\u001b[0;34m(\u001b[0m\u001b[0mindexer\u001b[0m\u001b[0;34m)\u001b[0m\u001b[0;34m:\u001b[0m\u001b[0;34m\u001b[0m\u001b[0;34m\u001b[0m\u001b[0m\n\u001b[1;32m   3457\u001b[0m                 \u001b[0mindexer\u001b[0m \u001b[0;34m=\u001b[0m \u001b[0;34m[\u001b[0m\u001b[0mindexer\u001b[0m\u001b[0;34m]\u001b[0m\u001b[0;34m\u001b[0m\u001b[0;34m\u001b[0m\u001b[0m\n",
      "\u001b[0;32m~/Coding/anaconda3/lib/python3.8/site-packages/pandas/core/indexes/base.py\u001b[0m in \u001b[0;36mget_loc\u001b[0;34m(self, key, method, tolerance)\u001b[0m\n\u001b[1;32m   3361\u001b[0m                 \u001b[0;32mreturn\u001b[0m \u001b[0mself\u001b[0m\u001b[0;34m.\u001b[0m\u001b[0m_engine\u001b[0m\u001b[0;34m.\u001b[0m\u001b[0mget_loc\u001b[0m\u001b[0;34m(\u001b[0m\u001b[0mcasted_key\u001b[0m\u001b[0;34m)\u001b[0m\u001b[0;34m\u001b[0m\u001b[0;34m\u001b[0m\u001b[0m\n\u001b[1;32m   3362\u001b[0m             \u001b[0;32mexcept\u001b[0m \u001b[0mKeyError\u001b[0m \u001b[0;32mas\u001b[0m \u001b[0merr\u001b[0m\u001b[0;34m:\u001b[0m\u001b[0;34m\u001b[0m\u001b[0;34m\u001b[0m\u001b[0m\n\u001b[0;32m-> 3363\u001b[0;31m                 \u001b[0;32mraise\u001b[0m \u001b[0mKeyError\u001b[0m\u001b[0;34m(\u001b[0m\u001b[0mkey\u001b[0m\u001b[0;34m)\u001b[0m \u001b[0;32mfrom\u001b[0m \u001b[0merr\u001b[0m\u001b[0;34m\u001b[0m\u001b[0;34m\u001b[0m\u001b[0m\n\u001b[0m\u001b[1;32m   3364\u001b[0m \u001b[0;34m\u001b[0m\u001b[0m\n\u001b[1;32m   3365\u001b[0m         \u001b[0;32mif\u001b[0m \u001b[0mis_scalar\u001b[0m\u001b[0;34m(\u001b[0m\u001b[0mkey\u001b[0m\u001b[0;34m)\u001b[0m \u001b[0;32mand\u001b[0m \u001b[0misna\u001b[0m\u001b[0;34m(\u001b[0m\u001b[0mkey\u001b[0m\u001b[0;34m)\u001b[0m \u001b[0;32mand\u001b[0m \u001b[0;32mnot\u001b[0m \u001b[0mself\u001b[0m\u001b[0;34m.\u001b[0m\u001b[0mhasnans\u001b[0m\u001b[0;34m:\u001b[0m\u001b[0;34m\u001b[0m\u001b[0;34m\u001b[0m\u001b[0m\n",
      "\u001b[0;31mKeyError\u001b[0m: 'class'"
     ]
    }
   ],
   "source": [
    "from collections import Counter\n",
    "print(Counter(new_df1['Type']))\n",
    "print(Counter(new_df2['class']))\n",
    "print(Counter(new_df3['class']))"
   ]
  },
  {
   "cell_type": "code",
   "execution_count": null,
   "id": "fda322f7",
   "metadata": {},
   "outputs": [],
   "source": []
  }
 ],
 "metadata": {
  "kernelspec": {
   "display_name": "Python 3",
   "language": "python",
   "name": "python3"
  },
  "language_info": {
   "codemirror_mode": {
    "name": "ipython",
    "version": 3
   },
   "file_extension": ".py",
   "mimetype": "text/x-python",
   "name": "python",
   "nbconvert_exporter": "python",
   "pygments_lexer": "ipython3",
   "version": "3.8.8"
  }
 },
 "nbformat": 4,
 "nbformat_minor": 5
}
