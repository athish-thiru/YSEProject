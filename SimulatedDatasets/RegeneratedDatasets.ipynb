{
 "cells": [
  {
   "cell_type": "code",
   "execution_count": 12,
   "id": "45e059ac",
   "metadata": {},
   "outputs": [],
   "source": [
    "import pandas as pd\n",
    "import numpy as np\n",
    "import matplotlib.pyplot as plt\n"
   ]
  },
  {
   "cell_type": "code",
   "execution_count": 8,
   "id": "4aff79f9",
   "metadata": {},
   "outputs": [],
   "source": [
    "df = pd.read_csv(\"LCs_CC.tar.gz\")\n",
    "df2 = pd.read_csv(\"LCs_Ia.tar.gz\")\n",
    "df3 = pd.read_csv(\"LCs_SESNe.tar.gz\")"
   ]
  },
  {
   "cell_type": "code",
   "execution_count": 9,
   "id": "6ac50ca5",
   "metadata": {},
   "outputs": [],
   "source": [
    "def make_explosion_array_for_single_light_curve(df):\n",
    "    light_curve = df.to_numpy()\n",
    "    \n",
    "    g_bands = light_curve[:, [0, 4]]\n",
    "    r_bands = light_curve[:, [5]]\n",
    "    i_bands = light_curve[:, [6]]\n",
    "    z_bands = light_curve[:, [7]]\n",
    "    \n",
    "    color_bands = [g_bands, r_bands, i_bands, z_bands]\n",
    "    mean_color = []\n",
    "    std_color = []\n",
    "    explosion_row_num = 0\n",
    "    \n",
    "    mean, std = np.mean(g_bands[:45, [1]]), np.std(g_bands[:45, [1]])\n",
    "    for row_num in range(len(g_bands)):\n",
    "        if g_bands[row_num][1] < mean - (5*std):\n",
    "                explosion_row_num = row_num\n",
    "                break\n",
    "    \n",
    "    explosion_array = np.concatenate((g_bands[explosion_row_num:explosion_row_num+6, [0]] - g_bands[explosion_row_num, [0]],\n",
    "                                     g_bands[explosion_row_num:explosion_row_num+6, [1]],\n",
    "                                     r_bands[explosion_row_num:explosion_row_num+6],\n",
    "                                     i_bands[explosion_row_num:explosion_row_num+6],\n",
    "                                     z_bands[explosion_row_num:explosion_row_num+6],\n",
    "                                     g_bands[explosion_row_num:explosion_row_num+6, [1]] - r_bands[explosion_row_num:explosion_row_num+6],\n",
    "                                     r_bands[explosion_row_num:explosion_row_num+6] - i_bands[explosion_row_num:explosion_row_num+6],\n",
    "                                     i_bands[explosion_row_num:explosion_row_num+6] - z_bands[explosion_row_num:explosion_row_num+6],\n",
    "                                     light_curve[explosion_row_num:explosion_row_num+6, [8]]), axis=1)\n",
    "    return explosion_array"
   ]
  },
  {
   "cell_type": "code",
   "execution_count": 23,
   "id": "b92e9c8f",
   "metadata": {},
   "outputs": [
    {
     "name": "stdout",
     "output_type": "stream",
     "text": [
      "[[0.0 19.423363 19.41415 ... -0.012245000000000061 0.2148833880615193\n",
      "  'SNII']\n",
      " [1.0 18.62696 18.648115 ... -0.034720000000000084 0.21824683471679762\n",
      "  'SNII']\n",
      " [2.0 18.298187 18.445728 ... -0.10507000000000133 0.2392078052978519\n",
      "  'SNII']\n",
      " ...\n",
      " [3.0 19.225338 19.008438 ... -0.1125179999999979 -0.06179851660155933\n",
      "  'IIb']\n",
      " [4.0 18.85358 18.63475 ... -0.11749299999999963 -0.05597309497070313\n",
      "  'IIb']\n",
      " [5.0 18.590357 18.381886 ... -0.2122489999999999 -0.11539106201171734\n",
      "  'IIb']]\n",
      "(50952, 9)\n"
     ]
    }
   ],
   "source": [
    "start_row, end_row = 0, 290\n",
    "\n",
    "final_array = make_explosion_array_for_single_light_curve(df[:290])\n",
    "\n",
    "for row in df.iterrows():\n",
    "    \n",
    "    \n",
    "    if (row[1][0] == 58750.0):\n",
    "        if (row[0] == 0) or (row[0] == 290): #prevent passing empty dataframe or repeating first\n",
    "            continue\n",
    "        \n",
    "        start_row = end_row\n",
    "        end_row = row[0]\n",
    "        sub_df = df.iloc[start_row:end_row, :]\n",
    "        temp_explosion_array = make_explosion_array_for_single_light_curve(sub_df)\n",
    "\n",
    "        final_array = np.append(final_array, temp_explosion_array, axis=0)\n",
    "\n",
    "print(final_array)\n",
    "print(np.shape(final_array))\n",
    "new_df = pd.DataFrame(final_array, columns = [\"Days after explosion\", \"g mag\", \"r mag\", \"i mag\", \"z mag\", \"g-r color\", \"r-i color\", \"i-z color\", \"Type\"])\n",
    "#new_df.to_csv('LCs_CC_modified.csv')"
   ]
  },
  {
   "cell_type": "code",
   "execution_count": null,
   "id": "9e7362e7",
   "metadata": {},
   "outputs": [],
   "source": []
  }
 ],
 "metadata": {
  "kernelspec": {
   "display_name": "Python 3",
   "language": "python",
   "name": "python3"
  },
  "language_info": {
   "codemirror_mode": {
    "name": "ipython",
    "version": 3
   },
   "file_extension": ".py",
   "mimetype": "text/x-python",
   "name": "python",
   "nbconvert_exporter": "python",
   "pygments_lexer": "ipython3",
   "version": "3.8.8"
  }
 },
 "nbformat": 4,
 "nbformat_minor": 5
}
