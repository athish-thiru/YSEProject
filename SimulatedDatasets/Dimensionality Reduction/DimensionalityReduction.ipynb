{
 "cells": [
  {
   "cell_type": "code",
   "execution_count": 5,
   "id": "ba2afb48",
   "metadata": {},
   "outputs": [],
   "source": [
    "import umap\n",
    "from sklearn.manifold import TSNE\n",
    "import pandas as pd"
   ]
  },
  {
   "cell_type": "code",
   "execution_count": 6,
   "id": "5c42934b",
   "metadata": {},
   "outputs": [],
   "source": [
    "new_df1 = pd.read_csv(\"LCs_CC_modified.csv\", index_col=0)\n",
    "new_df2 = pd.read_csv(\"LCs_Ia_modified.csv\", index_col=0)\n",
    "new_df3 = pd.read_csv(\"LCs_SESNe_modified.csv\", index_col=0)"
   ]
  },
  {
   "cell_type": "code",
   "execution_count": null,
   "id": "f4b0c96b",
   "metadata": {},
   "outputs": [],
   "source": [
    "#df : dataframe; n : days\n",
    "def phasecut(df, n):\n",
    "    df[\"before\" + str(n) + \"Days\"] = [1 if row[1][0] < n else 0 for row in df.iterrows()]"
   ]
  },
  {
   "cell_type": "code",
   "execution_count": null,
   "id": "100bb288",
   "metadata": {},
   "outputs": [],
   "source": [
    "def Before_after_array(X, y):\n",
    "    Before_list = []\n",
    "    After_list = []\n",
    "    for i in range(len(y1)):\n",
    "        if y1[i] == 1.0:\n",
    "            Before_list.append(X1_embedded[i])\n",
    "        else:\n",
    "            After_list.append(X1_embedded[i])\n",
    "    Before_array = np.array(Before_list)\n",
    "    After_array = np.array(After_list)\n",
    "    return Before_array, After_array"
   ]
  },
  {
   "cell_type": "code",
   "execution_count": null,
   "id": "f25c50b3",
   "metadata": {},
   "outputs": [],
   "source": [
    "#t-SNE dimensionality reduction\n",
    "method = manifold.TSNE(n_components = 2)\n",
    "day = 3\n",
    "phasecut(new_df1, day)\n",
    "phasecut(new_df2, day)\n",
    "phasecut(new_df3, day)\n",
    "\n",
    "data1 = new_df1.to_numpy()\n",
    "X1 = data1[:, 1:8].astype('float')\n",
    "y1 = data1[:,9].astype('float')\n",
    "X1_embedded = method.fit_transform(X1)\n",
    "\n",
    "data2 = new_df2.to_numpy()\n",
    "X2 = data2[:, 1:8].astype('float')\n",
    "y2 = data2[:,9].astype('float')\n",
    "X2_embedded = method.fit_transform(X2)\n",
    "\n",
    "data3 = new_df3.to_numpy()\n",
    "X3 = data3[:, 1:8].astype('float')\n",
    "y3 = data3[:,9].astype('float')\n",
    "X3_embedded = method.fit_transform(X3)"
   ]
  },
  {
   "cell_type": "code",
   "execution_count": null,
   "id": "5c66b38c",
   "metadata": {},
   "outputs": [],
   "source": [
    "print(X1_embedded)\n",
    "print(X2_embedded)\n",
    "print(X3_embedded)"
   ]
  },
  {
   "cell_type": "code",
   "execution_count": null,
   "id": "07b95883",
   "metadata": {},
   "outputs": [],
   "source": [
    "#t-SNE plotting\n",
    "\n",
    "fig, ax = plt.subplots(nrows=3, ncols=1, figsize=(8,18))\n",
    "#CCs\n",
    "CCs_before, CCs_after = Before_after_array(X1_embedded, y1)\n",
    "ax[0].scatter(CCs_before[:,0], CCs_before[:,1], c='teal', marker='^', label='CCs before 3 days')\n",
    "ax[0].scatter(CCs_after[:,0], CCs_after[:,1], c='teal', marker='s', label='CCs after 3 days')\n",
    "ax[0].legend()\n",
    "\n",
    "#Ias\n",
    "Ias_before, Ias_after = Before_after_array(X2_embedded, y2)\n",
    "ax[1].scatter(Ias_before[:,0], Ias_before[:,1], c='darkseagreen', marker='^', label='Ias before 3 days')\n",
    "ax[1].scatter(Ias_after[:,0], Ias_after[:,1], c='darkseagreen', marker='s', label='Ias after 3 days')\n",
    "ax[1].legend()\n",
    "\n",
    "\n",
    "#SESNe\n",
    "SESNes_before, SESNes_after = Before_after_array(X3_embedded, y3)\n",
    "ax[2].scatter(SESNes_before[:,0], SESNes_before[:,1], c='coral', marker='^', label='SESNes before 3 days')\n",
    "ax[2].scatter(SESNes_after[:,0], SESNes_after[:,1], c='coral', marker='s', label='SESNes after 3 days')\n",
    "ax[2].legend()\n",
    "\n",
    "print(CCs_before)\n",
    "print(CCs_after)\n",
    "print(np.shape(CCs_before))\n",
    "\n",
    "plt.show()"
   ]
  },
  {
   "cell_type": "code",
   "execution_count": null,
   "id": "a54d2584",
   "metadata": {},
   "outputs": [],
   "source": [
    "#UMAP dimensionality reduction\n",
    "\n",
    "method2 = umap.UMAP()\n",
    "day = 3\n",
    "phasecut(new_df1, day)\n",
    "phasecut(new_df2, day)\n",
    "phasecut(new_df3, day)\n",
    "\n",
    "data1 = new_df1.to_numpy()\n",
    "X1 = data1[:, 1:8].astype('float')\n",
    "y1 = data1[:,9].astype('float')\n",
    "umap_X1_embedded = method2.fit_transform(X1)\n",
    "\n",
    "data2 = new_df2.to_numpy()\n",
    "X2 = data2[:, 1:8].astype('float')\n",
    "y2 = data2[:,9].astype('float')\n",
    "umap_X2_embedded = method2.fit_transform(X2)\n",
    "\n",
    "data3 = new_df3.to_numpy()\n",
    "X3 = data3[:, 1:8].astype('float')\n",
    "y3 = data3[:,9].astype('float')\n",
    "umap_X3_embedded = method2.fit_transform(X3)"
   ]
  },
  {
   "cell_type": "code",
   "execution_count": null,
   "id": "6af6ec39",
   "metadata": {},
   "outputs": [],
   "source": [
    "#UMAP plotting\n",
    "\n",
    "fig, ax = plt.subplots(nrows=3, ncols=1, figsize=(8,18))\n",
    "#CCs\n",
    "umap_CCs_before, umap_CCs_after = Before_after_array(umap_X1_embedded, y1)\n",
    "ax[0].scatter(umap_CCs_before[:,0], umap_CCs_before[:,1], c='teal', marker='^', label='CCs before 3 days')\n",
    "ax[0].scatter(umap_CCs_after[:,0], umap_CCs_after[:,1], c='teal', marker='s', label='CCs after 3 days')\n",
    "ax[0].legend()\n",
    "\n",
    "#Ias\n",
    "umap_Ias_before, umap_Ias_after = Before_after_array(umap_X2_embedded, y2)\n",
    "ax[1].scatter(umap_Ias_before[:,0], umap_Ias_before[:,1], c='darkseagreen', marker='^', label='Ias before 3 days')\n",
    "ax[1].scatter(umap_Ias_after[:,0], umap_Ias_after[:,1], c='darkseagreen', marker='s', label='Ias after 3 days')\n",
    "ax[1].legend()\n",
    "\n",
    "\n",
    "#SESNe\n",
    "umap_SESNes_before, umap_SESNes_after = Before_after_array(umap_X3_embedded, y3)\n",
    "ax[2].scatter(umap_SESNes_before[:,0], umap_SESNes_before[:,1], c='coral', marker='^', label='SESNes before 3 days')\n",
    "ax[2].scatter(umap_SESNes_after[:,0], umap_SESNes_after[:,1], c='coral', marker='s', label='SESNes after 3 days')\n",
    "ax[2].legend()\n",
    "\n",
    "plt.show()"
   ]
  },
  {
   "cell_type": "code",
   "execution_count": 9,
   "id": "f6a005a9",
   "metadata": {},
   "outputs": [
    {
     "name": "stdout",
     "output_type": "stream",
     "text": [
      "Counter({'SNII': 36222, 'IIb': 6942, 'IIL': 4758, 'IIn': 3030})\n",
      "Counter({'K21': 50844})\n",
      "Counter({'SNIb': 30156, 'SNIc': 20808})\n"
     ]
    }
   ],
   "source": [
    "from collections import Counter\n",
    "print(Counter(new_df1['Type']))\n",
    "print(Counter(new_df2['Type']))\n",
    "print(Counter(new_df3['Type']))"
   ]
  },
  {
   "cell_type": "code",
   "execution_count": null,
   "id": "59224f61",
   "metadata": {},
   "outputs": [],
   "source": []
  }
 ],
 "metadata": {
  "kernelspec": {
   "display_name": "Python 3",
   "language": "python",
   "name": "python3"
  },
  "language_info": {
   "codemirror_mode": {
    "name": "ipython",
    "version": 3
   },
   "file_extension": ".py",
   "mimetype": "text/x-python",
   "name": "python",
   "nbconvert_exporter": "python",
   "pygments_lexer": "ipython3",
   "version": "3.8.8"
  }
 },
 "nbformat": 4,
 "nbformat_minor": 5
}
